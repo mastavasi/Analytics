{
 "cells": [
  {
   "cell_type": "code",
   "execution_count": 246,
   "id": "ba21d85a",
   "metadata": {},
   "outputs": [],
   "source": [
    "import pandas as pd\n",
    "import numpy as np\n",
    "from datetime import datetime\n",
    "from sklearn import preprocessing\n",
    "import seaborn as sns\n",
    "import scipy.stats as scs\n",
    "import matplotlib.pyplot as plt \n"
   ]
  },
  {
   "cell_type": "markdown",
   "id": "c8f9cfe0",
   "metadata": {},
   "source": [
    "________________________________\n",
    "\n",
    "### Загрузка .CSV из Tilda ###"
   ]
  },
  {
   "cell_type": "code",
   "execution_count": 247,
   "id": "4dbde1c1",
   "metadata": {
    "scrolled": false
   },
   "outputs": [],
   "source": [
    "shh = pd.read_csv('Tilda_web_13_10.csv')\n",
    "#shh = data[[\"email\", \"referer\", \"property_id\"]]\n",
    "shh = shh[shh[\"property_id\"] == \"webinar-data-science-13-10-22\"] # вывожу только нужный вебинар"
   ]
  },
  {
   "cell_type": "markdown",
   "id": "77d87d73",
   "metadata": {},
   "source": [
    "___________________\n"
   ]
  },
  {
   "cell_type": "code",
   "execution_count": 248,
   "id": "2d397514",
   "metadata": {
    "scrolled": true
   },
   "outputs": [],
   "source": [
    "\n",
    "#   db=shh[shh.duplicated()] #выведение дублей в отдельный столбец\n",
    "res = shh.drop_duplicates(subset=['email'], keep='first') # удаление дубликатов из датафрейма"
   ]
  },
  {
   "cell_type": "code",
   "execution_count": 249,
   "id": "7fd4041d",
   "metadata": {},
   "outputs": [],
   "source": [
    "test = ['тут был список тестовых имейлов'] \n",
    "# список тестовых мейлов вряд ли всех...\n",
    "\n",
    "res = res[~res['email'].isin(test)] # удаление этого списка из рабочего датафрейма"
   ]
  },
  {
   "cell_type": "code",
   "execution_count": 250,
   "id": "a79eeab9",
   "metadata": {},
   "outputs": [
    {
     "name": "stderr",
     "output_type": "stream",
     "text": [
      "C:\\Users\\Станислав Малицкий\\AppData\\Local\\Temp\\ipykernel_4940\\2379480451.py:5: SettingWithCopyWarning: \n",
      "A value is trying to be set on a copy of a slice from a DataFrame.\n",
      "Try using .loc[row_indexer,col_indexer] = value instead\n",
      "\n",
      "See the caveats in the documentation: https://pandas.pydata.org/pandas-docs/stable/user_guide/indexing.html#returning-a-view-versus-a-copy\n",
      "  clear_mails['email2'] = a\n"
     ]
    }
   ],
   "source": [
    "#shh1 = res[res[\"property_id\"] == \"webinar-data-science-13-10-22\"] # вывожу только нужный вебинар\n",
    "clear_mails = res[[\"email\"]] # вывожу только нужные значения\n",
    "\n",
    "a = clear_mails.email.str.lower() #смена регистра, для очистки всех дублей\n",
    "clear_mails['email2'] = a\n",
    "clear_mails = clear_mails.drop(['email'], axis = 1)\n",
    "clear_mails = clear_mails.rename(columns={'email2': 'email'}) # переименовываю"
   ]
  },
  {
   "cell_type": "code",
   "execution_count": 251,
   "id": "ba34f328",
   "metadata": {
    "scrolled": false
   },
   "outputs": [],
   "source": [
    "ref = res['referer'].str.split('?', expand=True) # раскидываю реферер по ютмкам через знак вопроса\n",
    "ref.columns = ['referer', 'utm'] # даю название новым столбцам\n",
    "ref1 = ref['utm'].str.split('&', expand=True) # разделяю теперь ютмки по & \n",
    "ref1.columns = ['source', 'medium' , 'campaign', 'content', 'term' , 'clid', 'wtf'] "
   ]
  },
  {
   "cell_type": "code",
   "execution_count": 252,
   "id": "4362e388",
   "metadata": {},
   "outputs": [],
   "source": [
    "for column in ref1.columns:\n",
    "    ref1[column] = ref1[column].str.replace('utm_source=' ,' ')\n",
    "    ref1[column] = ref1[column].str.replace('utm_medium=', ' ')  # цикл на удаление ключей меток\n",
    "    ref1[column] = ref1[column].str.replace('utm_campaign=', ' ')\n",
    "    ref1[column] = ref1[column].str.replace('#Inscrever','')"
   ]
  },
  {
   "cell_type": "code",
   "execution_count": 253,
   "id": "1bcbc74a",
   "metadata": {
    "scrolled": true
   },
   "outputs": [],
   "source": [
    "\n",
    "#ref1['source'] = np.where (ref1['source'].str.startswith('fbclid='), 'facebook_w', ref1['source']) # решение Санька на удаление fbclid\n"
   ]
  },
  {
   "cell_type": "code",
   "execution_count": 254,
   "id": "15bbcbcb",
   "metadata": {},
   "outputs": [],
   "source": [
    "ref2 = ref1.fillna(value= '-') # заполняю None тирешками, чтобы считались тоже"
   ]
  },
  {
   "cell_type": "code",
   "execution_count": 255,
   "id": "dad0fbd5",
   "metadata": {
    "scrolled": false
   },
   "outputs": [],
   "source": [
    "clear_utm = ref2[['source', 'medium', 'campaign']] # присваиваю новые названия"
   ]
  },
  {
   "cell_type": "code",
   "execution_count": 256,
   "id": "79490cf0",
   "metadata": {},
   "outputs": [
    {
     "data": {
      "text/html": [
       "<div>\n",
       "<style scoped>\n",
       "    .dataframe tbody tr th:only-of-type {\n",
       "        vertical-align: middle;\n",
       "    }\n",
       "\n",
       "    .dataframe tbody tr th {\n",
       "        vertical-align: top;\n",
       "    }\n",
       "\n",
       "    .dataframe thead th {\n",
       "        text-align: right;\n",
       "    }\n",
       "</style>\n",
       "<table border=\"1\" class=\"dataframe\">\n",
       "  <thead>\n",
       "    <tr style=\"text-align: right;\">\n",
       "      <th></th>\n",
       "      <th>source</th>\n",
       "      <th>medium</th>\n",
       "      <th>campaign</th>\n",
       "      <th>email_tilda</th>\n",
       "    </tr>\n",
       "  </thead>\n",
       "  <tbody>\n",
       "    <tr>\n",
       "      <th>1947</th>\n",
       "      <td>facebook_w</td>\n",
       "      <td>webinar</td>\n",
       "      <td>40_profession-data-scientist_facebook_cpc_con...</td>\n",
       "      <td>m221499@dac.unicamp.br</td>\n",
       "    </tr>\n",
       "    <tr>\n",
       "      <th>1948</th>\n",
       "      <td>facebook_w</td>\n",
       "      <td>webinar</td>\n",
       "      <td>40_profession-data-scientist_facebook_cpc_con...</td>\n",
       "      <td>fabiofmachida@gmail.com</td>\n",
       "    </tr>\n",
       "    <tr>\n",
       "      <th>1950</th>\n",
       "      <td>facebook_w</td>\n",
       "      <td>webinar</td>\n",
       "      <td>40_profession-data-scientist_facebook_cpc_con...</td>\n",
       "      <td>will.santos@gmail.com</td>\n",
       "    </tr>\n",
       "    <tr>\n",
       "      <th>1953</th>\n",
       "      <td>facebook_w</td>\n",
       "      <td>webinar</td>\n",
       "      <td>40_profession-data-scientist_facebook_cpc_con...</td>\n",
       "      <td>lucas.caitano1@gmail.com</td>\n",
       "    </tr>\n",
       "    <tr>\n",
       "      <th>1960</th>\n",
       "      <td>facebook_w</td>\n",
       "      <td>webinar</td>\n",
       "      <td>40_profession-data-scientist_facebook_cpc_con...</td>\n",
       "      <td>joao.v.s.amaral@gmail.com</td>\n",
       "    </tr>\n",
       "    <tr>\n",
       "      <th>...</th>\n",
       "      <td>...</td>\n",
       "      <td>...</td>\n",
       "      <td>...</td>\n",
       "      <td>...</td>\n",
       "    </tr>\n",
       "    <tr>\n",
       "      <th>3945</th>\n",
       "      <td>facebook_w</td>\n",
       "      <td>webinar</td>\n",
       "      <td>40_profession-data-scientist_facebook_cpc_con...</td>\n",
       "      <td>rluizrai@gmail.com</td>\n",
       "    </tr>\n",
       "    <tr>\n",
       "      <th>3946</th>\n",
       "      <td>facebook_w</td>\n",
       "      <td>webinar</td>\n",
       "      <td>40_profession-data-scientist_facebook_cpc_con...</td>\n",
       "      <td>prylla@gmail.com</td>\n",
       "    </tr>\n",
       "    <tr>\n",
       "      <th>3947</th>\n",
       "      <td>-</td>\n",
       "      <td>-</td>\n",
       "      <td>-</td>\n",
       "      <td>stvferreirabarbosa@gmail.com</td>\n",
       "    </tr>\n",
       "    <tr>\n",
       "      <th>3949</th>\n",
       "      <td>-</td>\n",
       "      <td>-</td>\n",
       "      <td>-</td>\n",
       "      <td>mariliamarques14@gmail.com</td>\n",
       "    </tr>\n",
       "    <tr>\n",
       "      <th>3989</th>\n",
       "      <td>expertsender</td>\n",
       "      <td>email</td>\n",
       "      <td>expertsender_email_digest_11_10_fail_br_code_...</td>\n",
       "      <td>sanoneda@hotmail.com</td>\n",
       "    </tr>\n",
       "  </tbody>\n",
       "</table>\n",
       "<p>924 rows × 4 columns</p>\n",
       "</div>"
      ],
      "text/plain": [
       "             source    medium  \\\n",
       "1947     facebook_w   webinar   \n",
       "1948     facebook_w   webinar   \n",
       "1950     facebook_w   webinar   \n",
       "1953     facebook_w   webinar   \n",
       "1960     facebook_w   webinar   \n",
       "...             ...       ...   \n",
       "3945     facebook_w   webinar   \n",
       "3946     facebook_w   webinar   \n",
       "3947              -         -   \n",
       "3949              -         -   \n",
       "3989   expertsender     email   \n",
       "\n",
       "                                               campaign  \\\n",
       "1947   40_profession-data-scientist_facebook_cpc_con...   \n",
       "1948   40_profession-data-scientist_facebook_cpc_con...   \n",
       "1950   40_profession-data-scientist_facebook_cpc_con...   \n",
       "1953   40_profession-data-scientist_facebook_cpc_con...   \n",
       "1960   40_profession-data-scientist_facebook_cpc_con...   \n",
       "...                                                 ...   \n",
       "3945   40_profession-data-scientist_facebook_cpc_con...   \n",
       "3946   40_profession-data-scientist_facebook_cpc_con...   \n",
       "3947                                                  -   \n",
       "3949                                                  -   \n",
       "3989   expertsender_email_digest_11_10_fail_br_code_...   \n",
       "\n",
       "                       email_tilda  \n",
       "1947        m221499@dac.unicamp.br  \n",
       "1948       fabiofmachida@gmail.com  \n",
       "1950         will.santos@gmail.com  \n",
       "1953      lucas.caitano1@gmail.com  \n",
       "1960     joao.v.s.amaral@gmail.com  \n",
       "...                            ...  \n",
       "3945            rluizrai@gmail.com  \n",
       "3946              prylla@gmail.com  \n",
       "3947  stvferreirabarbosa@gmail.com  \n",
       "3949    mariliamarques14@gmail.com  \n",
       "3989          sanoneda@hotmail.com  \n",
       "\n",
       "[924 rows x 4 columns]"
      ]
     },
     "execution_count": 256,
     "metadata": {},
     "output_type": "execute_result"
    }
   ],
   "source": [
    "Reg = pd.concat([clear_mails, clear_utm],axis=1) # конкатенирую две таблицы\n",
    "Reg = Reg[['source', 'medium', 'campaign', 'email']] # меняю порядок столбцов\n",
    "Reg = Reg.rename(columns={'email': 'email_tilda'}) # переименовываю\n",
    "#Reg = Reg.sort_values(by = ['source'], ascending = False).reset_index(drop = True)\n",
    "#Reg = Reg.set_index(['source','medium', 'campaign'])\n",
    "Reg\n",
    "#Reg.to_csv('test123_reg123.csv')"
   ]
  },
  {
   "cell_type": "markdown",
   "id": "011944d2",
   "metadata": {},
   "source": [
    "__________\n",
    "### Загрузка .CSV из Webinars ###"
   ]
  },
  {
   "cell_type": "code",
   "execution_count": 257,
   "id": "7da14f59",
   "metadata": {
    "scrolled": false
   },
   "outputs": [
    {
     "name": "stderr",
     "output_type": "stream",
     "text": [
      "C:\\Users\\Станислав Малицкий\\AppData\\Local\\Temp\\ipykernel_4940\\2789864325.py:6: SettingWithCopyWarning: \n",
      "A value is trying to be set on a copy of a slice from a DataFrame.\n",
      "Try using .loc[row_indexer,col_indexer] = value instead\n",
      "\n",
      "See the caveats in the documentation: https://pandas.pydata.org/pandas-docs/stable/user_guide/indexing.html#returning-a-view-versus-a-copy\n",
      "  Atendees['Email2'] = b\n"
     ]
    }
   ],
   "source": [
    "data5 = pd.read_csv('Atendees_13_10.csv')\n",
    "Atendees = data5[['Email']]\n",
    "\n",
    "\n",
    "b = Atendees.Email.str.lower() #смена регистра, для очистки всех дублей\n",
    "Atendees['Email2'] = b\n",
    "Atendees = Atendees.drop(['Email'], axis = 1)\n",
    "Atendees = Atendees.rename(columns={'Email2': 'email_atendees'})\n",
    "#Atendees.to_csv('test_aten.csv')"
   ]
  },
  {
   "cell_type": "markdown",
   "id": "370c6e91",
   "metadata": {},
   "source": [
    "______\n"
   ]
  },
  {
   "cell_type": "markdown",
   "id": "c12582c2",
   "metadata": {},
   "source": [
    "__________\n",
    "### Загрузка .CSV из amo ###"
   ]
  },
  {
   "cell_type": "code",
   "execution_count": 258,
   "id": "69d5bab0",
   "metadata": {
    "scrolled": false
   },
   "outputs": [],
   "source": [
    "data6 = pd.read_csv('amo_webinar_13_10.csv')\n",
    "amo = data6[['Work email']]\n",
    "amo = amo.rename(columns={'Work email': 'email_amo'})\n",
    "\n",
    "c = amo.email_amo.str.lower()\n",
    "amo['email_amo2'] = c\n",
    "amo = amo.drop(['email_amo'], axis = 1)\n",
    "amo = amo.rename(columns={'email_amo2': 'email_amo'})\n",
    "\n",
    "\n",
    "#amo.to_csv('amo_test.csv')"
   ]
  },
  {
   "cell_type": "code",
   "execution_count": 259,
   "id": "c6574e14",
   "metadata": {},
   "outputs": [],
   "source": [
    "testik  = Atendees.merge(amo, left_on=['email_atendees'], right_on=['email_amo'], how='left')"
   ]
  },
  {
   "cell_type": "code",
   "execution_count": 260,
   "id": "e08769d2",
   "metadata": {
    "scrolled": false
   },
   "outputs": [
    {
     "data": {
      "text/html": [
       "<div>\n",
       "<style scoped>\n",
       "    .dataframe tbody tr th:only-of-type {\n",
       "        vertical-align: middle;\n",
       "    }\n",
       "\n",
       "    .dataframe tbody tr th {\n",
       "        vertical-align: top;\n",
       "    }\n",
       "\n",
       "    .dataframe thead th {\n",
       "        text-align: right;\n",
       "    }\n",
       "</style>\n",
       "<table border=\"1\" class=\"dataframe\">\n",
       "  <thead>\n",
       "    <tr style=\"text-align: right;\">\n",
       "      <th></th>\n",
       "      <th>source</th>\n",
       "      <th>medium</th>\n",
       "      <th>campaign</th>\n",
       "      <th>email_tilda</th>\n",
       "      <th>email_atendees</th>\n",
       "      <th>email_amo</th>\n",
       "    </tr>\n",
       "  </thead>\n",
       "  <tbody>\n",
       "    <tr>\n",
       "      <th>0</th>\n",
       "      <td>facebook_w</td>\n",
       "      <td>webinar</td>\n",
       "      <td>40_profession-data-scientist_facebook_cpc_con...</td>\n",
       "      <td>m221499@dac.unicamp.br</td>\n",
       "      <td>NaN</td>\n",
       "      <td>NaN</td>\n",
       "    </tr>\n",
       "    <tr>\n",
       "      <th>1</th>\n",
       "      <td>facebook_w</td>\n",
       "      <td>webinar</td>\n",
       "      <td>40_profession-data-scientist_facebook_cpc_con...</td>\n",
       "      <td>fabiofmachida@gmail.com</td>\n",
       "      <td>fabiofmachida@gmail.com</td>\n",
       "      <td>NaN</td>\n",
       "    </tr>\n",
       "    <tr>\n",
       "      <th>2</th>\n",
       "      <td>facebook_w</td>\n",
       "      <td>webinar</td>\n",
       "      <td>40_profession-data-scientist_facebook_cpc_con...</td>\n",
       "      <td>will.santos@gmail.com</td>\n",
       "      <td>NaN</td>\n",
       "      <td>NaN</td>\n",
       "    </tr>\n",
       "    <tr>\n",
       "      <th>3</th>\n",
       "      <td>facebook_w</td>\n",
       "      <td>webinar</td>\n",
       "      <td>40_profession-data-scientist_facebook_cpc_con...</td>\n",
       "      <td>lucas.caitano1@gmail.com</td>\n",
       "      <td>lucas.caitano1@gmail.com</td>\n",
       "      <td>NaN</td>\n",
       "    </tr>\n",
       "    <tr>\n",
       "      <th>4</th>\n",
       "      <td>facebook_w</td>\n",
       "      <td>webinar</td>\n",
       "      <td>40_profession-data-scientist_facebook_cpc_con...</td>\n",
       "      <td>joao.v.s.amaral@gmail.com</td>\n",
       "      <td>NaN</td>\n",
       "      <td>NaN</td>\n",
       "    </tr>\n",
       "    <tr>\n",
       "      <th>...</th>\n",
       "      <td>...</td>\n",
       "      <td>...</td>\n",
       "      <td>...</td>\n",
       "      <td>...</td>\n",
       "      <td>...</td>\n",
       "      <td>...</td>\n",
       "    </tr>\n",
       "    <tr>\n",
       "      <th>922</th>\n",
       "      <td>facebook_w</td>\n",
       "      <td>webinar</td>\n",
       "      <td>40_profession-data-scientist_facebook_cpc_con...</td>\n",
       "      <td>rluizrai@gmail.com</td>\n",
       "      <td>rluizrai@gmail.com</td>\n",
       "      <td>rluizrai@gmail.com</td>\n",
       "    </tr>\n",
       "    <tr>\n",
       "      <th>923</th>\n",
       "      <td>facebook_w</td>\n",
       "      <td>webinar</td>\n",
       "      <td>40_profession-data-scientist_facebook_cpc_con...</td>\n",
       "      <td>prylla@gmail.com</td>\n",
       "      <td>NaN</td>\n",
       "      <td>NaN</td>\n",
       "    </tr>\n",
       "    <tr>\n",
       "      <th>924</th>\n",
       "      <td>-</td>\n",
       "      <td>-</td>\n",
       "      <td>-</td>\n",
       "      <td>stvferreirabarbosa@gmail.com</td>\n",
       "      <td>stvferreirabarbosa@gmail.com</td>\n",
       "      <td>NaN</td>\n",
       "    </tr>\n",
       "    <tr>\n",
       "      <th>925</th>\n",
       "      <td>-</td>\n",
       "      <td>-</td>\n",
       "      <td>-</td>\n",
       "      <td>mariliamarques14@gmail.com</td>\n",
       "      <td>mariliamarques14@gmail.com</td>\n",
       "      <td>NaN</td>\n",
       "    </tr>\n",
       "    <tr>\n",
       "      <th>926</th>\n",
       "      <td>expertsender</td>\n",
       "      <td>email</td>\n",
       "      <td>expertsender_email_digest_11_10_fail_br_code_...</td>\n",
       "      <td>sanoneda@hotmail.com</td>\n",
       "      <td>NaN</td>\n",
       "      <td>NaN</td>\n",
       "    </tr>\n",
       "  </tbody>\n",
       "</table>\n",
       "<p>927 rows × 6 columns</p>\n",
       "</div>"
      ],
      "text/plain": [
       "            source    medium  \\\n",
       "0       facebook_w   webinar   \n",
       "1       facebook_w   webinar   \n",
       "2       facebook_w   webinar   \n",
       "3       facebook_w   webinar   \n",
       "4       facebook_w   webinar   \n",
       "..             ...       ...   \n",
       "922     facebook_w   webinar   \n",
       "923     facebook_w   webinar   \n",
       "924              -         -   \n",
       "925              -         -   \n",
       "926   expertsender     email   \n",
       "\n",
       "                                              campaign  \\\n",
       "0     40_profession-data-scientist_facebook_cpc_con...   \n",
       "1     40_profession-data-scientist_facebook_cpc_con...   \n",
       "2     40_profession-data-scientist_facebook_cpc_con...   \n",
       "3     40_profession-data-scientist_facebook_cpc_con...   \n",
       "4     40_profession-data-scientist_facebook_cpc_con...   \n",
       "..                                                 ...   \n",
       "922   40_profession-data-scientist_facebook_cpc_con...   \n",
       "923   40_profession-data-scientist_facebook_cpc_con...   \n",
       "924                                                  -   \n",
       "925                                                  -   \n",
       "926   expertsender_email_digest_11_10_fail_br_code_...   \n",
       "\n",
       "                      email_tilda                email_atendees  \\\n",
       "0          m221499@dac.unicamp.br                           NaN   \n",
       "1         fabiofmachida@gmail.com       fabiofmachida@gmail.com   \n",
       "2           will.santos@gmail.com                           NaN   \n",
       "3        lucas.caitano1@gmail.com      lucas.caitano1@gmail.com   \n",
       "4       joao.v.s.amaral@gmail.com                           NaN   \n",
       "..                            ...                           ...   \n",
       "922            rluizrai@gmail.com            rluizrai@gmail.com   \n",
       "923              prylla@gmail.com                           NaN   \n",
       "924  stvferreirabarbosa@gmail.com  stvferreirabarbosa@gmail.com   \n",
       "925    mariliamarques14@gmail.com    mariliamarques14@gmail.com   \n",
       "926          sanoneda@hotmail.com                           NaN   \n",
       "\n",
       "              email_amo  \n",
       "0                   NaN  \n",
       "1                   NaN  \n",
       "2                   NaN  \n",
       "3                   NaN  \n",
       "4                   NaN  \n",
       "..                  ...  \n",
       "922  rluizrai@gmail.com  \n",
       "923                 NaN  \n",
       "924                 NaN  \n",
       "925                 NaN  \n",
       "926                 NaN  \n",
       "\n",
       "[927 rows x 6 columns]"
      ]
     },
     "execution_count": 260,
     "metadata": {},
     "output_type": "execute_result"
    }
   ],
   "source": [
    "final = pd.merge(Reg, testik, left_on=['email_tilda'], right_on=['email_atendees'], how='left')\n",
    "    #]final.insert(5, 'two', '.')\n",
    "    #final['two'] = np.where (final['email_atendees'].str.startswith('NaN'), 'NaN', final['two'])\n",
    "    #final1 = pd.merge(final, amo, left_on=['email_atendees'], right_on=['email_amo'], how='left')\n",
    "#final1 = final.groupby(['source', 'medium', 'campaign']).count()\n",
    "    #final1 = final1.drop(['one'], axis=1)\n",
    "\n",
    "final "
   ]
  },
  {
   "cell_type": "code",
   "execution_count": null,
   "id": "a6e87fea",
   "metadata": {},
   "outputs": [],
   "source": []
  },
  {
   "cell_type": "code",
   "execution_count": 261,
   "id": "044c6144",
   "metadata": {},
   "outputs": [],
   "source": [
    "final.to_csv('Webinar_tst_WOW_REALLY!!!!!!.csv')"
   ]
  }
 ],
 "metadata": {
  "kernelspec": {
   "display_name": "Python 3 (ipykernel)",
   "language": "python",
   "name": "python3"
  },
  "language_info": {
   "codemirror_mode": {
    "name": "ipython",
    "version": 3
   },
   "file_extension": ".py",
   "mimetype": "text/x-python",
   "name": "python",
   "nbconvert_exporter": "python",
   "pygments_lexer": "ipython3",
   "version": "3.9.12"
  }
 },
 "nbformat": 4,
 "nbformat_minor": 5
}
